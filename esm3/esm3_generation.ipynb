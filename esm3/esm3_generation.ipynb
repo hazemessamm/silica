{
 "cells": [
  {
   "cell_type": "code",
   "execution_count": 2,
   "id": "4dfa7373-f1b7-4289-8283-eed129795cd1",
   "metadata": {},
   "outputs": [],
   "source": [
    "from huggingface_hub import login\n",
    "from esm.models.esm3 import ESM3\n",
    "import esm\n"
   ]
  },
  {
   "cell_type": "code",
   "execution_count": 3,
   "id": "83e91663-fe48-4e35-b898-13c490d5eeb2",
   "metadata": {},
   "outputs": [],
   "source": [
    "from esm.sdk.api import (\n",
    "    ESM3InferenceClient,\n",
    "    ESMProtein,\n",
    "    ESMProteinError,\n",
    "    ESMProteinTensor,\n",
    "    GenerationConfig,\n",
    "    LogitsConfig,\n",
    "    LogitsOutput,\n",
    "    SamplingConfig,\n",
    "    SamplingTrackConfig,\n",
    ")\n",
    "from esm.tokenization.function_tokenizer import (\n",
    "    InterProQuantizedTokenizer as EsmFunctionTokenizer,\n",
    ")\n",
    "from esm.utils.structure.protein_chain import ProteinChain\n",
    "from esm.utils.types import FunctionAnnotation"
   ]
  },
  {
   "cell_type": "markdown",
   "id": "5fa60235-89d2-466c-ab42-eede8c98aeb9",
   "metadata": {},
   "source": [
    "## Add Immune Molecule InterPro Labels"
   ]
  },
  {
   "cell_type": "code",
   "execution_count": 4,
   "id": "5998e201-781d-440e-a3af-747868bf076c",
   "metadata": {},
   "outputs": [],
   "source": [
    "labels = [\"IPR036179\",\n",
    "\"IPR013106\",\n",
    "\"IPR013106\",\n",
    "\"IPR003599\",\n",
    "\"IPR050199\",\n",
    "\"IPR007110\",\n",
    "\"IPR013783\"]  # from InterPro 4krl entry\n"
   ]
  },
  {
   "cell_type": "code",
   "execution_count": 5,
   "id": "dc9fed2a-3001-4a3c-8371-04796145092c",
   "metadata": {
    "scrolled": true
   },
   "outputs": [
    {
     "data": {
      "application/vnd.jupyter.widget-view+json": {
       "model_id": "a7c05a82d3fe4b5d8f8a574921f9f123",
       "version_major": 2,
       "version_minor": 0
      },
      "text/plain": [
       "Fetching 22 files:   0%|          | 0/22 [00:00<?, ?it/s]"
      ]
     },
     "metadata": {},
     "output_type": "display_data"
    }
   ],
   "source": [
    "labels  = [i for i in labels if i in EsmFunctionTokenizer().interpro_labels]"
   ]
  },
  {
   "cell_type": "code",
   "execution_count": 7,
   "id": "0adff84d-748d-4a40-887c-4386e3ee7c6b",
   "metadata": {},
   "outputs": [
    {
     "data": {
      "text/plain": [
       "'IPR013783'"
      ]
     },
     "execution_count": 7,
     "metadata": {},
     "output_type": "execute_result"
    }
   ],
   "source": [
    "labels[-1]  # Ig like fold"
   ]
  },
  {
   "cell_type": "code",
   "execution_count": 51,
   "id": "5546fdbc-f745-4376-92a3-543cb913dd0c",
   "metadata": {
    "scrolled": true
   },
   "outputs": [
    {
     "name": "stdout",
     "output_type": "stream",
     "text": [
      "Retrying... Attempt 1 after 1.0s due to: (502, 'Failure in generate: <html>\\r\\n<head><title>502 Bad Gateway</title></head>\\r\\n<body>\\r\\n<center><h1>502 Bad Gateway</h1></center>\\r\\n</body>\\r\\n</html>\\r\\n')\n"
     ]
    }
   ],
   "source": [
    "#model: ESM3InferenceClient = ESM3.from_pretrained(\"esm3-open\").to(\"cuda\") # or \"cpu\"\n",
    "model: ESM3InferenceClient = esm.sdk.client(\"esm3-large-2024-03\", token=\"\")\n",
    "\n",
    "\n",
    "results = []\n",
    "\n",
    "for label in [labels[-1]]:  # Ig like fold\n",
    "    for t in [0.7,1, 2]:\n",
    "\n",
    "        protein_chain = ProteinChain.from_pdb(\"4krl_chain_a.pdb\")\n",
    "        protein = ESMProtein.from_protein_chain(protein_chain)\n",
    "        protein.sequence = \"_\"*122\n",
    "        protein.function_annotations = [\n",
    "                # Peptidase S1A, chymotrypsin family: https://www.ebi.ac.uk/interpro/structure/PDB/1utn/\n",
    "                #FunctionAnnotation(label=\"Immunoglobulin-like domain\", start=1, end=122),\n",
    "                FunctionAnnotation(label=label, start=1, end=122),\n",
    "            ]\n",
    "        protein_result = model.generate(protein, GenerationConfig(track=\"sequence\", num_steps=8, temperature=t))\n",
    "    results.append(protein_result)"
   ]
  },
  {
   "cell_type": "code",
   "execution_count": 61,
   "id": "b605c074-5339-42e8-a8d6-56219836a71b",
   "metadata": {
    "scrolled": true
   },
   "outputs": [],
   "source": [
    "rl = []\n",
    "for r in results:\n",
    "    try:\n",
    "        rl.append({\"sequence\": r.sequence, \"InterPro_label\":r.function_annotations})\n",
    "    except:\n",
    "        pass\n",
    "import pandas as pd\n",
    "result_df = pd.DataFrame(rl)"
   ]
  },
  {
   "cell_type": "code",
   "execution_count": 64,
   "id": "62279f44-00f5-4d48-a9c8-c5ce7ad35fe3",
   "metadata": {},
   "outputs": [
    {
     "data": {
      "text/html": [
       "<div>\n",
       "<style scoped>\n",
       "    .dataframe tbody tr th:only-of-type {\n",
       "        vertical-align: middle;\n",
       "    }\n",
       "\n",
       "    .dataframe tbody tr th {\n",
       "        vertical-align: top;\n",
       "    }\n",
       "\n",
       "    .dataframe thead th {\n",
       "        text-align: right;\n",
       "    }\n",
       "</style>\n",
       "<table border=\"1\" class=\"dataframe\">\n",
       "  <thead>\n",
       "    <tr style=\"text-align: right;\">\n",
       "      <th></th>\n",
       "      <th>sequence</th>\n",
       "      <th>InterPro_label</th>\n",
       "    </tr>\n",
       "  </thead>\n",
       "  <tbody>\n",
       "    <tr>\n",
       "      <th>0</th>\n",
       "      <td>PVHLEESGGGTVLAGATSVLSCHGSGWIYENYGLGWFRQAAGQKTE...</td>\n",
       "      <td>[FunctionAnnotation(label='IPR036179', start=1...</td>\n",
       "    </tr>\n",
       "    <tr>\n",
       "      <th>1</th>\n",
       "      <td>PVELIERGGGTVGFGSELPLSCTASGAMFHHIGDTWFRQMPGRSRE...</td>\n",
       "      <td>[FunctionAnnotation(label='IPR013106', start=1...</td>\n",
       "    </tr>\n",
       "    <tr>\n",
       "      <th>2</th>\n",
       "      <td>QEQLLEFGGGREELGGSLRLSCASSGVTFHNYGMGWFRQAPGKGCM...</td>\n",
       "      <td>[FunctionAnnotation(label='IPR003599', start=1...</td>\n",
       "    </tr>\n",
       "    <tr>\n",
       "      <th>3</th>\n",
       "      <td>DMKLIESGGGFVARGGSLSLSCAASGLIRSGYGMGWFREATGKERG...</td>\n",
       "      <td>[FunctionAnnotation(label='IPR013783', start=1...</td>\n",
       "    </tr>\n",
       "  </tbody>\n",
       "</table>\n",
       "</div>"
      ],
      "text/plain": [
       "                                            sequence  \\\n",
       "0  PVHLEESGGGTVLAGATSVLSCHGSGWIYENYGLGWFRQAAGQKTE...   \n",
       "1  PVELIERGGGTVGFGSELPLSCTASGAMFHHIGDTWFRQMPGRSRE...   \n",
       "2  QEQLLEFGGGREELGGSLRLSCASSGVTFHNYGMGWFRQAPGKGCM...   \n",
       "3  DMKLIESGGGFVARGGSLSLSCAASGLIRSGYGMGWFREATGKERG...   \n",
       "\n",
       "                                      InterPro_label  \n",
       "0  [FunctionAnnotation(label='IPR036179', start=1...  \n",
       "1  [FunctionAnnotation(label='IPR013106', start=1...  \n",
       "2  [FunctionAnnotation(label='IPR003599', start=1...  \n",
       "3  [FunctionAnnotation(label='IPR013783', start=1...  "
      ]
     },
     "execution_count": 64,
     "metadata": {},
     "output_type": "execute_result"
    }
   ],
   "source": [
    "result_df"
   ]
  },
  {
   "cell_type": "code",
   "execution_count": null,
   "id": "0215bd05-5290-47be-aeb8-93c7fe544f5a",
   "metadata": {},
   "outputs": [],
   "source": [
    "sequence = \"QVKLEESGGGSVQTGGSLRLTCAASGRTSRSYGMGWFRQAPGKEREFVSGISWRGDSTGYADSVKGRFTISRDNAKNTVDLQMNSLKPEDTAIYYCAAAAGSAWYGTLYEYDYWGQGTQVTV\"\n",
    "#Mask the sequence\n",
    "list_seq = list(sequence)\n",
    "list_seq[27:36] = \"_\"*9\n",
    "list_seq[50:58] = \"_\"*8\n",
    "list_seq[99:114] = \"_\"*15\n",
    "masked_seq = \"\".join(list_seq)"
   ]
  },
  {
   "cell_type": "code",
   "execution_count": null,
   "id": "f6b49156-89b2-4f71-813f-82610f36833e",
   "metadata": {},
   "outputs": [],
   "source": [
    "protein_chain = ProteinChain.from_pdb(\"4krl_chain_a.pdb\")\n",
    "protein = ESMProtein.from_protein_chain(protein_chain)\n",
    "protein.sequence = masked_seq\n",
    "protein_result = model.generate(protein, GenerationConfig(track=\"sequence\", num_steps=8, temperature=0.7))"
   ]
  },
  {
   "cell_type": "code",
   "execution_count": null,
   "id": "7aac96c9-3d22-4050-a956-30057fd75696",
   "metadata": {},
   "outputs": [],
   "source": [
    "temps = [2]*2+ [3]*2 + [0.7]*2 + [1]*2"
   ]
  },
  {
   "cell_type": "code",
   "execution_count": null,
   "id": "53676824-3024-4edf-81aa-7d9540065aa6",
   "metadata": {},
   "outputs": [],
   "source": [
    "results2 = [model.generate(protein, GenerationConfig(track=\"sequence\", num_steps=8, temperature=t)) for t in temps]"
   ]
  }
 ],
 "metadata": {
  "kernelspec": {
   "display_name": "Python [conda env:esm3]",
   "language": "python",
   "name": "conda-env-esm3-py"
  },
  "language_info": {
   "codemirror_mode": {
    "name": "ipython",
    "version": 3
   },
   "file_extension": ".py",
   "mimetype": "text/x-python",
   "name": "python",
   "nbconvert_exporter": "python",
   "pygments_lexer": "ipython3",
   "version": "3.11.5"
  }
 },
 "nbformat": 4,
 "nbformat_minor": 5
}
