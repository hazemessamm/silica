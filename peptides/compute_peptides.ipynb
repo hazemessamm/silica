{
 "cells": [
  {
   "cell_type": "code",
   "execution_count": 6,
   "id": "1a8c3cca-879f-4b54-bc27-f0318a4b839f",
   "metadata": {},
   "outputs": [
    {
     "name": "stdout",
     "output_type": "stream",
     "text": [
      "INFO: Pandarallel will run on 16 workers.\n",
      "INFO: Pandarallel will use Memory file system to transfer data between the main process and workers.\n"
     ]
    }
   ],
   "source": [
    "import pandas as pd\n",
    "import numpy as np\n",
    "from pathlib import Path\n",
    "import peptides\n",
    "from pandarallel import pandarallel\n",
    "import argparse\n",
    "\n",
    "pandarallel.initialize(progress_bar=True)"
   ]
  },
  {
   "cell_type": "code",
   "execution_count": 8,
   "id": "d951e485-b0fb-4d3c-abf9-2e9e30d5a4ac",
   "metadata": {},
   "outputs": [],
   "source": [
    "numeric_features = [\n",
    "    \"aliphatic_index\",\n",
    "    \"boman\",\n",
    "    \"charge\",\n",
    "    \"descriptors\",  # ontains all descriptors so do not need physical_descriptors\n",
    "    \"frequencies\",\n",
    "    \"hydrophobic_moment\",\n",
    "    \"hydrophobicity\",\n",
    "    \"instability_index\",\n",
    "    \"isoelectric_point\",\n",
    "    \"mass_shift\",\n",
    "    # 'membrane_position_profile',  # May be useful, but may need to be parameterized ex: T, S\n",
    "    \"molecular_weight\",\n",
    "    \"mz\",\n",
    "    #  'structural_class',  # May be useful, is the predicted structural class ex: alpha\n",
    "]\n",
    "\n",
    "vector_features = [\n",
    "    \"hydrophobic_moment_profile\",\n",
    "    \"hydrophobicity_profile\",\n",
    "    \"linker_preference_profile\",\n",
    "]"
   ]
  },
  {
   "cell_type": "code",
   "execution_count": 4,
   "id": "f0e7911b-8b3e-43b7-854b-365aad11c2b8",
   "metadata": {},
   "outputs": [],
   "source": [
    "def compute_peptides(seq: str, vector: bool = False):\n",
    "\n",
    "    \"\"\"\n",
    "    Get descriptors computed by the peptides package for input sequence.\n",
    "\n",
    "    Parameters:\n",
    "        seq (str): The protein sequence.\n",
    "        vector (bool): Whether vector descriptors should be returned. Default False.\n",
    "    \"\"\"\n",
    "    \n",
    "    features = {}\n",
    "    pep = peptides.Peptide(seq)\n",
    "    if vector:\n",
    "        pep_features = numeric_features + vector_features\n",
    "    else:\n",
    "        pep_features = numeric_features\n",
    "    for i in pep_features:\n",
    "        if i != \"descriptors\" and i != \"frequencies\":\n",
    "            features[i] = getattr(pep, i)()\n",
    "        elif i == \"descriptors\":\n",
    "            features.update(getattr(pep, i)())\n",
    "        elif i == \"frequencies\":\n",
    "            features.update({k + \"_frequency\": v for k, v in getattr(pep, i)().items()})\n",
    "    if vector:\n",
    "        features[\"hydrophobicity_profile\"] = list(features[\"hydrophobicity_profile\"])\n",
    "        features[\"hydrophobic_moment_profile\"] = list(\n",
    "            features[\"hydrophobic_moment_profile\"]\n",
    "        )\n",
    "    features[\"sequence\"] = seq\n",
    "    return features"
   ]
  },
  {
   "cell_type": "code",
   "execution_count": 7,
   "id": "920d30b0-fd54-41d3-9458-4726d16c3c24",
   "metadata": {
    "scrolled": true
   },
   "outputs": [
    {
     "name": "stdout",
     "output_type": "stream",
     "text": [
      "Input CSV file: ../source_data/adaptyv_biolm_egfr_data.csv\n"
     ]
    },
    {
     "data": {
      "application/vnd.jupyter.widget-view+json": {
       "model_id": "6e14ed1ef1a84e7dbcac5cfee00e3227",
       "version_major": 2,
       "version_minor": 0
      },
      "text/plain": [
       "VBox(children=(HBox(children=(IntProgress(value=0, description='0.00%', max=35), Label(value='0 / 35'))), HBox…"
      ]
     },
     "metadata": {},
     "output_type": "display_data"
    },
    {
     "name": "stdout",
     "output_type": "stream",
     "text": [
      "Peptides saved to file: peptides.csv\n"
     ]
    }
   ],
   "source": [
    "# Define input and output files\n",
    "csv_file_path = \"../source_data/adaptyv_biolm_egfr_data.csv\"\n",
    "out_file_path = \"peptides.csv\"\n",
    "print(f'Input CSV file: {csv_file_path}')\n",
    "\n",
    "# Load data\n",
    "df = pd.read_csv(csv_file_path)\n",
    "# Compute peptides. Expects sequences to be in sequence column\n",
    "peptides_features = pd.DataFrame(df[\"sequence\"].parallel_apply(compute_peptides).tolist())\n",
    "# Save here\n",
    "peptides_features.to_csv(f\"{out_file_path}\", index=False)\n",
    "print(f'Peptides saved to file: {out_file_path}')"
   ]
  },
  {
   "cell_type": "code",
   "execution_count": null,
   "id": "9b3bb2d3-8fa2-4f64-8f0c-c2042f2ca432",
   "metadata": {},
   "outputs": [],
   "source": []
  }
 ],
 "metadata": {
  "kernelspec": {
   "display_name": "Python [conda env:biolm] *",
   "language": "python",
   "name": "conda-env-biolm-py"
  },
  "language_info": {
   "codemirror_mode": {
    "name": "ipython",
    "version": 3
   },
   "file_extension": ".py",
   "mimetype": "text/x-python",
   "name": "python",
   "nbconvert_exporter": "python",
   "pygments_lexer": "ipython3",
   "version": "3.11.5"
  }
 },
 "nbformat": 4,
 "nbformat_minor": 5
}
