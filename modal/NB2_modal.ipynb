{
 "cells": [
  {
   "cell_type": "code",
   "execution_count": 19,
   "id": "827ce17a-72f1-4563-9f22-8250b78aa3bf",
   "metadata": {},
   "outputs": [],
   "source": [
    "import modal\n",
    "from pathlib import Path\n",
    "\n",
    "\n",
    "\n",
    "# Build image and dependencies. Will be cached after build\n",
    "immune_builder_image = (\n",
    "    modal.Image.micromamba(python_version=\"3.12\")\n",
    "    .micromamba_install(\"openmm\", \"pdbfixer\", channels=[\"conda-forge\"])\n",
    "    .apt_install(\"git\", \"wget\")\n",
    "    .run_commands(\"git clone https://github.com/oxpig/ANARCI.git\")\n",
    "    .micromamba_install(\"biopython\", channels=[\"conda-forge\"])\n",
    "    .micromamba_install(\"hmmer=3.3.2\", channels=[\"bioconda\"])\n",
    "    .run_commands(\"cd ANARCI && python setup.py install\")\n",
    "    .pip_install(\"ImmuneBuilder\")\n",
    "    .apt_install(\"libopenblas-dev\")\n",
    "    .run_commands(\"mkdir -p /app/NB2_weights\")\n",
    "    .workdir(\"/app\")\n",
    "    .run_commands(\"wget -O NB2_weights/nanobody_model_1 https://zenodo.org/record/7258553/files/nanobody_model_1?download=1\",\n",
    "                  \"wget -O NB2_weights/nanobody_model_2 https://zenodo.org/record/7258553/files/nanobody_model_2?download=1\",\n",
    "                  \"wget -O NB2_weights/nanobody_model_3 https://zenodo.org/record/7258553/files/nanobody_model_3?download=1\",\n",
    "                  \"wget -O NB2_weights/nanobody_model_4 https://zenodo.org/record/7258553/files/nanobody_model_4?download=1\"))\n",
    "\n",
    "    \n",
    "app = modal.App(name=\"NanoBodyBuilder2\", image=immune_builder_image)\n",
    "\n",
    "\n",
    "# Remote function that predicts the PDBs\n",
    "@app.function(image=immune_builder_image)\n",
    "def predict_structure(sequences):\n",
    "    from ImmuneBuilder import NanoBodyBuilder2\n",
    "    import os\n",
    "    # Model class\n",
    "    predictor = NanoBodyBuilder2(weights_dir = \"NB2_weights\")\n",
    "    results=[]\n",
    "\n",
    "    # Iteratively Predict\n",
    "    # TODO: Check batching\n",
    "    for seq in sequences:\n",
    "        output_file = f\"{seq}.pdb\"\n",
    "        nanobody = predictor.predict({'H': seq})\n",
    "        nanobody.save(output_file)\n",
    "        # Return PDB string\n",
    "        with open(output_file,\"r\") as f:\n",
    "            pdb_str=f.read()\n",
    "            results.append(pdb_str)\n",
    "        if os.path.isfile(output_file):\n",
    "            os.remove(output_file)\n",
    "    return results\n",
    "\n",
    "\n",
    "# Make remote function call and save predicted PDBs\n",
    "def save_pdbs(sequences, out_dir, ids):\n",
    "    if isinstance(sequences, str):\n",
    "        sequences=[sequences]\n",
    "    if isinstance(ids, str):\n",
    "        ids=[ids]\n",
    "    results = predict_structure.remote(sequences)\n",
    "    assert len(results) == len(sequences)\n",
    "    out_dir = Path(out_dir)\n",
    "    out_dir.mkdir(parents=True, exist_ok=True)\n",
    "    if ids:\n",
    "        assert len(ids) == len(sequences)\n",
    "        for id, pdb_string in zip(ids, results):\n",
    "            with open(out_dir / Path(f\"{id}.pdb\"), \"w\") as f:\n",
    "                f.write(pdb_string)\n",
    "    else:\n",
    "        for i, pdb_string in enumerate(results):\n",
    "            with open(out_dir / Path(f\"{i}.pdb\"), \"w\") as f:\n",
    "                f.write(pdb_string)"
   ]
  },
  {
   "cell_type": "code",
   "execution_count": 17,
   "id": "6ef6709d-d3e7-47de-8582-47f7bc820e79",
   "metadata": {},
   "outputs": [
    {
     "data": {
      "application/vnd.jupyter.widget-view+json": {
       "model_id": "",
       "version_major": 2,
       "version_minor": 0
      },
      "text/plain": [
       "Output()"
      ]
     },
     "metadata": {},
     "output_type": "display_data"
    },
    {
     "data": {
      "text/html": [
       "<pre style=\"white-space:pre;overflow-x:auto;line-height:normal;font-family:Menlo,'DejaVu Sans Mono',consolas,'Courier New',monospace\"><span style=\"color: #008000; text-decoration-color: #008000\">✓</span> Initialized. <span style=\"color: #b2b2b2; text-decoration-color: #b2b2b2\">View run at </span><span style=\"color: #b2b2b2; text-decoration-color: #b2b2b2; text-decoration: underline\">https://modal.com/apps/chancechallacombe/main/ap-LMS3CFebwBtzQLmdTsNKOk</span>\n",
       "</pre>\n"
      ],
      "text/plain": [
       "\u001b[32m✓\u001b[0m Initialized. \u001b[38;5;249mView run at \u001b[0m\u001b[4;38;5;249mhttps://modal.com/apps/chancechallacombe/main/ap-LMS3CFebwBtzQLmdTsNKOk\u001b[0m\n"
      ]
     },
     "metadata": {},
     "output_type": "display_data"
    },
    {
     "data": {
      "text/html": [
       "<pre style=\"white-space:pre;overflow-x:auto;line-height:normal;font-family:Menlo,'DejaVu Sans Mono',consolas,'Courier New',monospace\"></pre>\n"
      ],
      "text/plain": []
     },
     "metadata": {},
     "output_type": "display_data"
    },
    {
     "data": {
      "application/vnd.jupyter.widget-view+json": {
       "model_id": "",
       "version_major": 2,
       "version_minor": 0
      },
      "text/plain": [
       "Output()"
      ]
     },
     "metadata": {},
     "output_type": "display_data"
    },
    {
     "data": {
      "text/html": [
       "<pre style=\"white-space:pre;overflow-x:auto;line-height:normal;font-family:Menlo,'DejaVu Sans Mono',consolas,'Courier New',monospace\"></pre>\n"
      ],
      "text/plain": []
     },
     "metadata": {},
     "output_type": "display_data"
    },
    {
     "data": {
      "text/html": [
       "<pre style=\"white-space:pre;overflow-x:auto;line-height:normal;font-family:Menlo,'DejaVu Sans Mono',consolas,'Courier New',monospace\"><span style=\"color: #008000; text-decoration-color: #008000\">✓</span> Created objects.\n",
       "<span style=\"color: #808080; text-decoration-color: #808080\">├── </span>🔨 Created mount PythonPackage:NB2_modal\n",
       "<span style=\"color: #808080; text-decoration-color: #808080\">└── </span>🔨 Created function predict_structure.\n",
       "</pre>\n"
      ],
      "text/plain": [
       "\u001b[32m✓\u001b[0m Created objects.\n",
       "\u001b[38;5;244m├── \u001b[0m🔨 Created mount PythonPackage:NB2_modal\n",
       "\u001b[38;5;244m└── \u001b[0m🔨 Created function predict_structure.\n"
      ]
     },
     "metadata": {},
     "output_type": "display_data"
    },
    {
     "data": {
      "application/vnd.jupyter.widget-view+json": {
       "model_id": "",
       "version_major": 2,
       "version_minor": 0
      },
      "text/plain": [
       "Output()"
      ]
     },
     "metadata": {},
     "output_type": "display_data"
    },
    {
     "data": {
      "text/html": [
       "<pre style=\"white-space:pre;overflow-x:auto;line-height:normal;font-family:Menlo,'DejaVu Sans Mono',consolas,'Courier New',monospace\"><span style=\"color: #800000; text-decoration-color: #800000\">/opt/conda/lib/python3.12/site-packages/ImmuneBuilder/NanoBodyBuilder2.py:105: FutureWarning: You are using `torch.load` with `weights_only=False` (the current default value), which uses the default pickle module implicitly. It is possible to construct malicious pickle data which will execute arbitrary code during unpickling (See https://github.com/pytorch/pytorch/blob/main/SECURITY.md#untrusted-models for more details). In a future release, the default value for `weights_only` will be flipped to `True`. This limits the functions that could be executed during unpickling. Arbitrary objects will no longer be allowed to be loaded via this mode unless they are explicitly allowlisted by the user via `torch.serialization.add_safe_globals`. We recommend you start setting `weights_only=True` for any use case where you don't have full control of the loaded file. Please open an issue on GitHub for any issues related to this experimental feature.\n",
       "  model.load_state_dict(torch.load(weights_path, map_location=torch.device(self.device)))\n",
       "</span></pre>\n"
      ],
      "text/plain": [
       "\u001b[31m/opt/conda/lib/python3.12/site-packages/ImmuneBuilder/NanoBodyBuilder2.py:105: FutureWarning: You are using `torch.load` with `weights_only=False` (the current default value), which uses the default pickle module implicitly. It is possible to construct malicious pickle data which will execute arbitrary code during unpickling (See https://github.com/pytorch/pytorch/blob/main/SECURITY.md#untrusted-models for more details). In a future release, the default value for `weights_only` will be flipped to `True`. This limits the functions that could be executed during unpickling. Arbitrary objects will no longer be allowed to be loaded via this mode unless they are explicitly allowlisted by the user via `torch.serialization.add_safe_globals`. We recommend you start setting `weights_only=True` for any use case where you don't have full control of the loaded file. Please open an issue on GitHub for any issues related to this experimental feature.\n",
       "  model.load_state_dict(torch.load(weights_path, map_location=torch.device(self.device)))\n",
       "\u001b[0m"
      ]
     },
     "metadata": {},
     "output_type": "display_data"
    },
    {
     "data": {
      "text/html": [
       "<pre style=\"white-space:pre;overflow-x:auto;line-height:normal;font-family:Menlo,'DejaVu Sans Mono',consolas,'Courier New',monospace\"></pre>\n"
      ],
      "text/plain": []
     },
     "metadata": {},
     "output_type": "display_data"
    },
    {
     "data": {
      "text/html": [
       "<pre style=\"white-space:pre;overflow-x:auto;line-height:normal;font-family:Menlo,'DejaVu Sans Mono',consolas,'Courier New',monospace\"><span style=\"color: #808000; text-decoration-color: #808000\">Stopping app - local entrypoint completed.\n",
       "</span></pre>\n"
      ],
      "text/plain": [
       "\u001b[33mStopping app - local entrypoint completed.\n",
       "\u001b[0m"
      ]
     },
     "metadata": {},
     "output_type": "display_data"
    },
    {
     "data": {
      "text/html": [
       "<pre style=\"white-space:pre;overflow-x:auto;line-height:normal;font-family:Menlo,'DejaVu Sans Mono',consolas,'Courier New',monospace\"><span style=\"color: #008000; text-decoration-color: #008000\">✓</span> App completed. <span style=\"color: #b2b2b2; text-decoration-color: #b2b2b2\">View run at </span><span style=\"color: #b2b2b2; text-decoration-color: #b2b2b2; text-decoration: underline\">https://modal.com/apps/chancechallacombe/main/ap-LMS3CFebwBtzQLmdTsNKOk</span>\n",
       "</pre>\n"
      ],
      "text/plain": [
       "\u001b[32m✓\u001b[0m App completed. \u001b[38;5;249mView run at \u001b[0m\u001b[4;38;5;249mhttps://modal.com/apps/chancechallacombe/main/ap-LMS3CFebwBtzQLmdTsNKOk\u001b[0m\n"
      ]
     },
     "metadata": {},
     "output_type": "display_data"
    }
   ],
   "source": [
    "with modal.enable_output():\n",
    "    with app.run():\n",
    "        results = save_pdbs(sequences=[\"QVKLEESGGGSVQTGGSLRLTCAASGRTSRSYGMGWFRQAPGKEREFVSGISWRGDSTGYADSVKGRFTISRDNAKNTVDLQMNSLKPEDTAIYYCAAAAGSAWYGTLYEYDYWGQGTQVTVSS\", \n",
    "                                      \"EVQLVESGGGLVQAGGSLRLSCAASGRTFSSYAMGWFRQAPGKEREFVVAINWSSGSTYYADSVKGRFTISRDNAKNTMYLQMNSLKPEDTAVYYCAAGYQINSGNYNFKDYEYDYWGQGTQVTVSS\",\n",
    "                                      \"QVQLQESGGGLVQPGGSLRLSCAASGRTFSSYAMGWFRQAPGKQREFVAAIRWSGGYTYYTDSVKGRFTISRDNAKTTVYLQMNSLKPEDTAVYYCAATYLSSDYSRYALPQRPLDYDYWGQGTQVTVSS\"],\n",
    "                            out_dir=\"predicted_structures\",\n",
    "                           ids=[\"7D12\", \"9G8\", \"EgA1\"])"
   ]
  }
 ],
 "metadata": {
  "kernelspec": {
   "display_name": "Python [conda env:modal]",
   "language": "python",
   "name": "conda-env-modal-py"
  },
  "language_info": {
   "codemirror_mode": {
    "name": "ipython",
    "version": 3
   },
   "file_extension": ".py",
   "mimetype": "text/x-python",
   "name": "python",
   "nbconvert_exporter": "python",
   "pygments_lexer": "ipython3",
   "version": "3.12.2"
  }
 },
 "nbformat": 4,
 "nbformat_minor": 5
}
